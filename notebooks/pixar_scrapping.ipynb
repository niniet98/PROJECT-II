{
 "cells": [
  {
   "cell_type": "markdown",
   "metadata": {},
   "source": [
    "### Imports"
   ]
  },
  {
   "cell_type": "code",
   "execution_count": 1,
   "metadata": {},
   "outputs": [],
   "source": [
    "import requests\n",
    "from bs4 import BeautifulSoup\n",
    "import pandas as pd"
   ]
  },
  {
   "cell_type": "markdown",
   "metadata": {},
   "source": [
    "### What do I want?\n",
    "    Get number of characters for each movie in order to compare budgets.\n",
    "    Puntuación vs.\n",
    "    Cuanto genera pixar al año?\n",
    "    Directores de los cortos de pixar"
   ]
  },
  {
   "cell_type": "markdown",
   "metadata": {},
   "source": [
    "## Scrapping step by step"
   ]
  },
  {
   "cell_type": "markdown",
   "metadata": {},
   "source": [
    "### Common part"
   ]
  },
  {
   "cell_type": "code",
   "execution_count": 2,
   "metadata": {},
   "outputs": [
    {
     "data": {
      "text/plain": [
       "<div class=\"slide\" data-animation-role=\"image\" data-type=\"image\">\n",
       "<div class=\"margin-wrapper\">\n",
       "<a class=\"image-slide-anchor content-fit\" href=\"/elemental\">\n",
       "<noscript><img alt=\"Elemental\" src=\"https://images.squarespace-cdn.com/content/v1/51cdafc4e4b09eb676a64e68/1677261445468-VNTJ4L41VES1YMLW5R9G/elemental.jpg\"/></noscript><img alt=\"Elemental\" class=\"thumb-image\" data-image=\"https://images.squarespace-cdn.com/content/v1/51cdafc4e4b09eb676a64e68/1677261445468-VNTJ4L41VES1YMLW5R9G/elemental.jpg\" data-image-dimensions=\"720x1053\" data-image-focal-point=\"0.5,0.5\" data-image-id=\"63f8fa843cdaf815c13436de\" data-load=\"false\" data-src=\"https://images.squarespace-cdn.com/content/v1/51cdafc4e4b09eb676a64e68/1677261445468-VNTJ4L41VES1YMLW5R9G/elemental.jpg\" data-type=\"image\"/>\n",
       "</a>\n",
       "<div class=\"image-slide-title\">Elemental</div>\n",
       "</div>\n",
       "</div>"
      ]
     },
     "execution_count": 2,
     "metadata": {},
     "output_type": "execute_result"
    }
   ],
   "source": [
    "base_url = 'https://www.pixar.com'\n",
    "endpoint = '/feature-films-launch'\n",
    "request_url = f'{base_url}{endpoint}'\n",
    "res = requests.get(request_url)\n",
    "soup = BeautifulSoup(res.content, 'html.parser')\n",
    "movies = soup.find_all('div', {'class':'slide'})\n",
    "movies[0]"
   ]
  },
  {
   "cell_type": "code",
   "execution_count": 3,
   "metadata": {},
   "outputs": [
    {
     "data": {
      "text/plain": [
       "'/elemental'"
      ]
     },
     "execution_count": 3,
     "metadata": {},
     "output_type": "execute_result"
    }
   ],
   "source": [
    "link = movies[0].find('a')\n",
    "link = link.get('href')\n",
    "link"
   ]
  },
  {
   "cell_type": "code",
   "execution_count": 4,
   "metadata": {},
   "outputs": [
    {
     "data": {
      "text/plain": [
       "'Elemental'"
      ]
     },
     "execution_count": 4,
     "metadata": {},
     "output_type": "execute_result"
    }
   ],
   "source": [
    "name = movies[0].getText()\n",
    "name.strip()"
   ]
  },
  {
   "cell_type": "code",
   "execution_count": 5,
   "metadata": {},
   "outputs": [],
   "source": [
    "endpoint = '/elemental'\n",
    "request_url = f'{base_url}{endpoint}'\n",
    "res = requests.get(request_url)\n",
    "soup = BeautifulSoup(res.content, 'html.parser')"
   ]
  },
  {
   "cell_type": "markdown",
   "metadata": {},
   "source": [
    "### Characters for each movie"
   ]
  },
  {
   "cell_type": "code",
   "execution_count": 6,
   "metadata": {},
   "outputs": [
    {
     "data": {
      "text/plain": [
       "[<h2 style=\"white-space:pre-wrap;\">Ember Lumen</h2>,\n",
       " <h2 style=\"white-space:pre-wrap;\">Wade Ripple</h2>,\n",
       " <h2 style=\"white-space:pre-wrap;\">Bernie Lumen</h2>,\n",
       " <h2 style=\"white-space:pre-wrap;\">Cinder Lumen</h2>,\n",
       " <h2 style=\"white-space:pre-wrap;\">Clod</h2>,\n",
       " <h2 style=\"white-space:pre-wrap;\">Brook Ripple</h2>,\n",
       " <h2 style=\"white-space:pre-wrap;\">Gale</h2>,\n",
       " <h2 style=\"white-space:pre-wrap;\">Fern</h2>]"
      ]
     },
     "execution_count": 6,
     "metadata": {},
     "output_type": "execute_result"
    }
   ],
   "source": [
    "characters = soup.find('section', {'id':'lightyear_character_main-copy'})\n",
    "characters\n",
    "blocks = characters.find_all('h2')\n",
    "blocks"
   ]
  },
  {
   "cell_type": "markdown",
   "metadata": {},
   "source": [
    "### Assets for each movie"
   ]
  },
  {
   "cell_type": "code",
   "execution_count": 7,
   "metadata": {},
   "outputs": [
    {
     "data": {
      "text/plain": [
       "[<h2 style=\"white-space:pre-wrap;\">Building The World</h2>,\n",
       " <h2 style=\"white-space:pre-wrap;\">Firetown</h2>,\n",
       " <h2 style=\"white-space:pre-wrap;\">The Water District</h2>,\n",
       " <h2 style=\"white-space:pre-wrap;\">Cyclone Stadium</h2>,\n",
       " <h2 style=\"white-space:pre-wrap;\">Graphics</h2>]"
      ]
     },
     "execution_count": 7,
     "metadata": {},
     "output_type": "execute_result"
    }
   ],
   "source": [
    "assets = soup.find('section', {'id':'lightyear_world_design-copy'})\n",
    "assets\n",
    "blocks = assets.find_all('h2')\n",
    "blocks"
   ]
  },
  {
   "cell_type": "markdown",
   "metadata": {},
   "source": [
    "## Encapsulation"
   ]
  },
  {
   "cell_type": "code",
   "execution_count": 8,
   "metadata": {},
   "outputs": [],
   "source": [
    "def get_html(url):\n",
    "    '''\n",
    "    Returns de html parsed.\n",
    "    '''\n",
    "    res = requests.get(url)\n",
    "    return BeautifulSoup(res.content, 'html.parser')"
   ]
  },
  {
   "cell_type": "code",
   "execution_count": 9,
   "metadata": {},
   "outputs": [],
   "source": [
    "def get_section_elements(m_html, num_sec):\n",
    "    '''\n",
    "    Returns a list of characters, assets (depends on the html number section).\n",
    "    '''\n",
    "    section = m_html.find_all('section')\n",
    "    characters = section[num_sec].find_all('h2')\n",
    "    return [i.getText() for i in characters]\n",
    "\n",
    "def get_movies_dict(movies, num_sec):\n",
    "    '''\n",
    "    Returns a list of dictionaries.\n",
    "    '''\n",
    "    movies_dict_list = []\n",
    "    for m in movies:\n",
    "        name = m.getText()\n",
    "        name = name.strip()\n",
    "        link = m.find('a')\n",
    "        link = link.get('href')\n",
    "        request_url = f'{base_url}{link}'\n",
    "        m_html = get_html(request_url)\n",
    "        characters = get_section_elements(m_html, num_sec)\n",
    "        movies_dict_list.append({name: characters})\n",
    "    return movies_dict_list\n",
    "\n",
    "def get_pixar_movie_list(url):\n",
    "    soup = get_html(url)\n",
    "    return soup.find_all('div', {'class':'slide'})\n"
   ]
  },
  {
   "cell_type": "code",
   "execution_count": 10,
   "metadata": {},
   "outputs": [],
   "source": [
    "base_url = 'https://www.pixar.com'\n",
    "endpoint = '/feature-films-launch'\n",
    "request_url = f'{base_url}{endpoint}'"
   ]
  },
  {
   "cell_type": "markdown",
   "metadata": {},
   "source": [
    "### Characters scrapping"
   ]
  },
  {
   "cell_type": "code",
   "execution_count": 11,
   "metadata": {},
   "outputs": [
    {
     "data": {
      "text/plain": [
       "[{'Elemental': ['Ember Lumen',\n",
       "   'Wade Ripple',\n",
       "   'Bernie Lumen',\n",
       "   'Cinder Lumen',\n",
       "   'Clod',\n",
       "   'Brook Ripple',\n",
       "   'Gale',\n",
       "   'Fern']},\n",
       " {'Lightyear': ['The Human Side of Buzz',\n",
       "   'Buzz Lightyear',\n",
       "   'Izzy Hawthorne',\n",
       "   'Sox',\n",
       "   'Maurice “Mo” Morrison',\n",
       "   'Darby Steel',\n",
       "   'Zurg',\n",
       "   'Alisha Hawthorne',\n",
       "   'Zyclops',\n",
       "   'Commander Burnside',\n",
       "   'Airman DÍaz',\n",
       "   'I.V.A.N.']},\n",
       " {'Turning Red': ['The Inner 13-Year Old',\n",
       "   'Meilin Lee',\n",
       "   'Red Panda Mei',\n",
       "   'Ming Lee',\n",
       "   'Jin Lee',\n",
       "   'Miriam Mendelsohn',\n",
       "   'Priya Mangal',\n",
       "   'Abby Park',\n",
       "   '4*Town',\n",
       "   'Tyler Nguyen-Baker',\n",
       "   'Grandma',\n",
       "   'Sun Yee']},\n",
       " {'Luca': ['Just Add Water',\n",
       "   'Luca Paguro',\n",
       "   'Alberto Scorfano',\n",
       "   'Giulia Marcovaldo',\n",
       "   'Ercole Visconti',\n",
       "   'Massimo Marcovaldo',\n",
       "   'Daniela Paguro',\n",
       "   'Lorenzo Paguro',\n",
       "   'Grandma Paguro',\n",
       "   'Uncle Ugo',\n",
       "   'Machiavelli']},\n",
       " {'Soul': ['Joe Gardner',\n",
       "   '22',\n",
       "   'Dez',\n",
       "   'Dorothea Williams ',\n",
       "   'Libba Gardner',\n",
       "   'Moonwind',\n",
       "   'The Counselors',\n",
       "   'Terry',\n",
       "   'Curley',\n",
       "   'Miho ',\n",
       "   'New Souls',\n",
       "   'Mr. Mittens',\n",
       "   'Lost Souls']},\n",
       " {'Onward': ['Ian Lightfoot',\n",
       "   'Barley Lightfoot',\n",
       "   'Laurel Lightfoot (Mom)',\n",
       "   'Wilden Lightfoot\\xa0(Dad)',\n",
       "   'The Manticore (Corey)',\n",
       "   'Officer Colt Bronco',\n",
       "   'Guinevere',\n",
       "   'Blazey',\n",
       "   'Unicorns']},\n",
       " {'Toy Story 4': ['Woody',\n",
       "   'Bo Peep',\n",
       "   'Forky',\n",
       "   'Gabby Gabby',\n",
       "   'Buzz Lightyear',\n",
       "   'Ducky and Bunny',\n",
       "   'Giggle McDimples',\n",
       "   'Duke Caboom',\n",
       "   'Benson',\n",
       "   'Combat Carl']},\n",
       " {'Incredibles 2': ['Helen Parr',\n",
       "   'Bob Parr',\n",
       "   'Jack-Jack Parr',\n",
       "   'Violet Parr',\n",
       "   'Dashiell Parr (Dash)',\n",
       "   'Edna \"E\" Mode',\n",
       "   'Screenslaver',\n",
       "   'Lucius Best (Frozone)',\n",
       "   'Winston Deavor',\n",
       "   'Evelyn Deavor',\n",
       "   'New /\\xa0International Supers',\n",
       "   'Raccoon']},\n",
       " {'Coco': ['Miguel',\n",
       "   'Héctor',\n",
       "   'Dante',\n",
       "   'Ernesto de la Cruz',\n",
       "   'Abuelita',\n",
       "   'Pepita',\n",
       "   'Mamá Imelda',\n",
       "   'Frida',\n",
       "   'The Music',\n",
       "   'Mamá Coco',\n",
       "   'The Rivera Family',\n",
       "   'Chicharrón',\n",
       "   'Skeletons']},\n",
       " {'Cars 3': ['NASCAR Research',\n",
       "   'Lightning McQueen',\n",
       "   'Cruz Ramirez',\n",
       "   'Jackson Storm',\n",
       "   'Smokey',\n",
       "   'Junior \"Midnight\" Moon',\n",
       "   'River Scott',\n",
       "   'Louise Nash',\n",
       "   'Veterans',\n",
       "   'Miss Fritter',\n",
       "   'Sterling',\n",
       "   'Natalie Certain']},\n",
       " {'Finding Dory': ['The Master Mimic',\n",
       "   'Dory',\n",
       "   'Nemo & Marlin',\n",
       "   'Hank',\n",
       "   'Bailey',\n",
       "   'Destiny',\n",
       "   'Becky',\n",
       "   'Gerald',\n",
       "   'Fluke & Rudder',\n",
       "   'Otters']},\n",
       " {'The Good Dinosaur': ['The Life Size Dinosaur',\n",
       "   'Arlo',\n",
       "   'Spot',\n",
       "   'Poppa',\n",
       "   'Momma',\n",
       "   'Buck & Libby',\n",
       "   'Pet Collector',\n",
       "   'Butch',\n",
       "   'Nash & Ramsey',\n",
       "   'Pterodactyls',\n",
       "   'Raptors']},\n",
       " {'Inside Out': ['The Many Particles of Joy',\n",
       "   'Joy',\n",
       "   'Sadness',\n",
       "   'Anger',\n",
       "   'Disgust',\n",
       "   'Fear',\n",
       "   'Riley',\n",
       "   'Bing Bong',\n",
       "   'Mom and Dad']},\n",
       " {'Monsters University': ['Young Monsters',\n",
       "   'Mike Wazowski',\n",
       "   'James P. Sullivan',\n",
       "   'Randy Boggs',\n",
       "   'Dean Hardscrabble',\n",
       "   'Scott \"Squishy\" Squibbles',\n",
       "   'Don Carlton',\n",
       "   'Terri & Terry Perry',\n",
       "   'Art',\n",
       "   'Mrs. Squibbles',\n",
       "   'Oozma Kappa (OK)',\n",
       "   'Roar Omega Roar (ROR)',\n",
       "   'Python Nu Kappa (PNK)',\n",
       "   'Jaws Theta Chi (JOX)',\n",
       "   'Slugma Slugma Kappa (EEK)',\n",
       "   'Archie the Scare Pig']},\n",
       " {'Brave': ['The Story of Brave',\n",
       "   'Merida\\xa0',\n",
       "   'Queen Elinor',\n",
       "   'King Fergus',\n",
       "   'Triplets\\xa0',\n",
       "   'Bear Queen',\n",
       "   'Angus',\n",
       "   'The Witch',\n",
       "   'The Lords']},\n",
       " {'Cars 2': ['What Would Mater Do?',\n",
       "   'Mater',\n",
       "   'Lightning McQueen',\n",
       "   'Francesco Bernoulli\\xa0',\n",
       "   'Finn McMissile',\n",
       "   'Holley Shiftwell\\xa0',\n",
       "   'Professor Z',\n",
       "   'Miles Axlerod',\n",
       "   'Acer',\n",
       "   'Grem',\n",
       "   'Racers',\n",
       "   'Siddeley']},\n",
       " {'Toy Story 3': ['Reintroductions',\n",
       "   'Woody',\n",
       "   'Buzz Lightyear',\n",
       "   'Lotso',\n",
       "   \"Andy's Toys\",\n",
       "   'Ken',\n",
       "   'Buttercup',\n",
       "   'Dolly',\n",
       "   'Mr. Pricklepants',\n",
       "   'Peas-In-A-Pod',\n",
       "   'Big Baby',\n",
       "   'Chunk',\n",
       "   'Stretch',\n",
       "   'Twitch',\n",
       "   'Sparks',\n",
       "   'Andy',\n",
       "   'Bonnie']},\n",
       " {'Up': ['Simple Shapes',\n",
       "   'Carl Fredricksen\\xa0',\n",
       "   'Russell\\xa0',\n",
       "   'Dug',\n",
       "   'Kevin',\n",
       "   'Charles F. Muntz',\n",
       "   'Alpha Pack',\n",
       "   'Ellie']},\n",
       " {'WALL-E': ['Pantomime',\n",
       "   'Live Action',\n",
       "   'WALL•E',\n",
       "   'EVE',\n",
       "   'M-O\\xa0',\n",
       "   'Auto',\n",
       "   'Captain',\n",
       "   'John and Mary']},\n",
       " {'Ratatouille': ['The Artist Rat',\n",
       "   'Remy',\n",
       "   'Auguste Gusteau',\n",
       "   'Linguini',\n",
       "   'Colette',\n",
       "   'Anton Ego',\n",
       "   'Skinner',\n",
       "   'Chefs',\n",
       "   'Emile',\n",
       "   'Django']},\n",
       " {'Cars': ['Cars as Characters',\n",
       "   'Lightning McQueen',\n",
       "   'Mater',\n",
       "   'Sally',\n",
       "   'Doc Hudson',\n",
       "   'Luigi & Guido',\n",
       "   'Fillmore',\n",
       "   'Sheriff',\n",
       "   'Sarge',\n",
       "   'Ramone',\n",
       "   'Flo']},\n",
       " {'The Incredibles': ['The Superpowers',\n",
       "   'Mr. Incredible',\n",
       "   'Elastigirl',\n",
       "   'Dash',\n",
       "   'Violet',\n",
       "   'Syndrome',\n",
       "   'Edna \"E\" Mode',\n",
       "   'Jack-Jack',\n",
       "   'Frozone',\n",
       "   'Mirage',\n",
       "   'Omnidroid',\n",
       "   'Gilbert Huph']},\n",
       " {'Finding Nemo': ['Classic Characters',\n",
       "   'Nemo',\n",
       "   'Marlin',\n",
       "   'Dory',\n",
       "   'Gill',\n",
       "   'The Tank Gang',\n",
       "   'Sharks',\n",
       "   'Turtles',\n",
       "   'Nigel',\n",
       "   \"Mr. Ray's Class\",\n",
       "   'Dentist/Darla',\n",
       "   'Coral']},\n",
       " {'Monsters, Inc.': ['Finding Boo',\n",
       "   'James P. “Sulley” Sullivan',\n",
       "   'Mike Wazowski',\n",
       "   'Boo',\n",
       "   'Randall Boggs',\n",
       "   'Henry J. Waternoose III',\n",
       "   'Roz',\n",
       "   'Celia',\n",
       "   'Yeti',\n",
       "   'George Sanderson',\n",
       "   'Monsters',\n",
       "   'Child Detection Agency']},\n",
       " {'Toy Story 2': ['Woody',\n",
       "   'Buzz Lightyear',\n",
       "   'Jessie',\n",
       "   'Bullseye',\n",
       "   'Mrs. Potato Head',\n",
       "   'Weezy',\n",
       "   'The Prospector',\n",
       "   'Emperor Zurg',\n",
       "   'Al']},\n",
       " {\"A Bug's Life\": ['Flik',\n",
       "   'Princess Atta',\n",
       "   'Dot',\n",
       "   'Queen',\n",
       "   'Francis',\n",
       "   'Heimlich',\n",
       "   'Dim',\n",
       "   'Tuck & Roll',\n",
       "   'Manny & Gypsy',\n",
       "   'Rosie',\n",
       "   'Slim',\n",
       "   'P.T. Flea',\n",
       "   'Hopper',\n",
       "   'Molt']},\n",
       " {'Toy Story': ['Woody',\n",
       "   'Buzz Lightyear',\n",
       "   'Hamm',\n",
       "   'Mr. Potato Head',\n",
       "   'Rex',\n",
       "   'Slinky',\n",
       "   'Mutant Toys',\n",
       "   'Sid',\n",
       "   'Andy']}]"
      ]
     },
     "execution_count": 11,
     "metadata": {},
     "output_type": "execute_result"
    }
   ],
   "source": [
    "characters_section = 2\n",
    "movies = get_pixar_movie_list(request_url)\n",
    "characters_dict = get_movies_dict(movies, characters_section)\n",
    "characters_dict"
   ]
  },
  {
   "cell_type": "markdown",
   "metadata": {},
   "source": [
    "### Assets scrapping"
   ]
  },
  {
   "cell_type": "code",
   "execution_count": 12,
   "metadata": {},
   "outputs": [
    {
     "data": {
      "text/plain": [
       "[{'Elemental': ['Building The World',\n",
       "   'Firetown',\n",
       "   'The Water District',\n",
       "   'Cyclone Stadium',\n",
       "   'Graphics']},\n",
       " {'Lightyear': ['“Warm CGI”',\n",
       "   \"T'kani Prime\",\n",
       "   'Turnip',\n",
       "   'Star Command',\n",
       "   'The Ships']},\n",
       " {'Turning Red': ['“Chunky Cute”',\n",
       "   'Toronto',\n",
       "   'Chinatown & the Lee Family Temple',\n",
       "   'Home & Bedroom',\n",
       "   'Middle School',\n",
       "   'The Concert']},\n",
       " {'Luca': ['Italy, Summertime and Sea Monsters',\n",
       "   'Portorosso',\n",
       "   'Underwater',\n",
       "   'Island']},\n",
       " {'Soul': ['Building The Performances',\n",
       "   'New York City',\n",
       "   'Barbershop',\n",
       "   'The Half Note',\n",
       "   'The Great Before',\n",
       "   'The Astral Plane',\n",
       "   'Personality Pavilions',\n",
       "   'The Hall of Everything']},\n",
       " {'Onward': ['Familiar Fantasy', 'Trust Bridge', 'Homes', 'Suburbia']},\n",
       " {'Toy Story 4': ['A Toy’s World View', 'The Antique Store', 'Carnival']},\n",
       " {'Incredibles 2': ['Graphic Design',\n",
       "   'The Parr Home',\n",
       "   'Screenslaver’s Lair',\n",
       "   'The Elasticycle',\n",
       "   'DevTech',\n",
       "   'Hydroliner',\n",
       "   'Municiberg']},\n",
       " {'Coco': ['Research',\n",
       "   'The Land Of The Dead',\n",
       "   'Santa Cecilia',\n",
       "   'Cemetery',\n",
       "   'The Marigold Bridge',\n",
       "   'Las Ofrendas',\n",
       "   'The Department of Family Reunions']},\n",
       " {'Cars 3': ['Hyperreal',\n",
       "   'Radiator Springs',\n",
       "   'The Rust-eze Training Center',\n",
       "   'Thomasville',\n",
       "   'Crazy 8 Demolition Derby',\n",
       "   'Florida International Super Speedway']},\n",
       " {'Finding Dory': ['Water and Light',\n",
       "   'Great Barrier Reef',\n",
       "   'The Marine Life Institute',\n",
       "   'Shipping Lanes']},\n",
       " {'The Good Dinosaur': ['Environments',\n",
       "   'The River',\n",
       "   'Forest & Mountains',\n",
       "   'Homestead',\n",
       "   'The Plains']},\n",
       " {'Inside Out': ['Mind vs Brain',\n",
       "   'Headquarters',\n",
       "   'Dream Productions',\n",
       "   'Imagination Land',\n",
       "   'Islands Of Personality',\n",
       "   'Train Of Thought',\n",
       "   'Long Term Memory']},\n",
       " {'Monsters University': ['The Monster Feel',\n",
       "   '',\n",
       "   'Campus',\n",
       "   'Greek House',\n",
       "   'The Scare Games',\n",
       "   'Field Trip']},\n",
       " {'Brave': ['The Stories of Scotland',\n",
       "   'Castle DunBroch',\n",
       "   'The Highlands',\n",
       "   'Research Trips',\n",
       "   'The Standing Stones',\n",
       "   'The Witch Hut']},\n",
       " {'Cars 2': ['The International World of Cars 2',\n",
       "   '(Not) Lost In Translation',\n",
       "   'Oil Rig',\n",
       "   'Tokyo',\n",
       "   'Italy',\n",
       "   'Paris',\n",
       "   'London',\n",
       "   'Colorscript']},\n",
       " {'Toy Story 3': ['Western Opening',\n",
       "   'The Landfill',\n",
       "   \"Andy's Room\",\n",
       "   \"Bonnie's Room\",\n",
       "   'Sunnyside Daycare',\n",
       "   'Research',\n",
       "   'Colorscripts']},\n",
       " {'Up': ['\"Simplexity\"',\n",
       "   'Research',\n",
       "   'The House',\n",
       "   'Tepui',\n",
       "   'Airship',\n",
       "   'Colorscript']},\n",
       " {'WALL-E': ['The Found World',\n",
       "   'The Language of Sound',\n",
       "   'Earth',\n",
       "   'Truck',\n",
       "   'Space',\n",
       "   'Axiom',\n",
       "   'Colorscripts']},\n",
       " {'Ratatouille': ['A World of Extremes',\n",
       "   'Old School',\n",
       "   'Gusteau’s',\n",
       "   'Linguini’s Apartment',\n",
       "   'Paris',\n",
       "   'Sewers',\n",
       "   'Colorscript']},\n",
       " {'Cars': ['Route 66',\n",
       "   'Radiator Springs',\n",
       "   'Landscapes',\n",
       "   'Racing',\n",
       "   'Graphics',\n",
       "   'Research',\n",
       "   'Colorscript']},\n",
       " {'The Incredibles': ['The Future',\n",
       "   'The Sound Of The Incredibles',\n",
       "   'New Family',\n",
       "   'The Parr Home',\n",
       "   'Nomanisan',\n",
       "   \"E's Lair\",\n",
       "   'Colorscripts']},\n",
       " {'Finding Nemo': ['Fish Eye View',\n",
       "   'The Tank',\n",
       "   'Current',\n",
       "   'The Drop Off',\n",
       "   'The Harbor',\n",
       "   'Jellyfish',\n",
       "   'The Reef',\n",
       "   'The Whale',\n",
       "   'The Sunken Ship',\n",
       "   'Colorscript']},\n",
       " {'Monsters, Inc.': ['The Door',\n",
       "   'The Apartment',\n",
       "   \"Boo's Room\",\n",
       "   'The Factory',\n",
       "   'Monstropolis\\xa0',\n",
       "   'Colorscripts']},\n",
       " {'Toy Story 2': [\"Al's Apartment\",\n",
       "   \"Al's Toy Barn\",\n",
       "   \"Woody's Roundup\",\n",
       "   \"Zurg's Fortress\",\n",
       "   'Airport',\n",
       "   'Colorscripts']},\n",
       " {\"A Bug's Life\": ['Ant Island',\n",
       "   'Bug City',\n",
       "   'The Circus',\n",
       "   \"Hopper's Hideout\",\n",
       "   'Vegetation ',\n",
       "   'Colorscripts']},\n",
       " {'Toy Story': [\"Andy's House\",\n",
       "   'Dinoco Station',\n",
       "   'Pizza Planet',\n",
       "   \"Sid's House\"]}]"
      ]
     },
     "execution_count": 12,
     "metadata": {},
     "output_type": "execute_result"
    }
   ],
   "source": [
    "assets_section = 4\n",
    "movies = get_pixar_movie_list(request_url)\n",
    "assets_dict = get_movies_dict(movies, assets_section)\n",
    "assets_dict"
   ]
  },
  {
   "cell_type": "markdown",
   "metadata": {},
   "source": [
    "## Export to csv"
   ]
  },
  {
   "cell_type": "code",
   "execution_count": 13,
   "metadata": {},
   "outputs": [],
   "source": [
    "def build_df_structure(list_):\n",
    "    movie_names = []\n",
    "    list_of_lists = []\n",
    "    for i in list_:\n",
    "        for key, value in i.items():\n",
    "            movie_names.append(key)\n",
    "            list_of_lists.append(value)\n",
    "    return [movie_names, list_of_lists]"
   ]
  },
  {
   "cell_type": "markdown",
   "metadata": {},
   "source": [
    "### Characters"
   ]
  },
  {
   "cell_type": "code",
   "execution_count": 14,
   "metadata": {},
   "outputs": [
    {
     "data": {
      "text/html": [
       "<div>\n",
       "<style scoped>\n",
       "    .dataframe tbody tr th:only-of-type {\n",
       "        vertical-align: middle;\n",
       "    }\n",
       "\n",
       "    .dataframe tbody tr th {\n",
       "        vertical-align: top;\n",
       "    }\n",
       "\n",
       "    .dataframe thead th {\n",
       "        text-align: right;\n",
       "    }\n",
       "</style>\n",
       "<table border=\"1\" class=\"dataframe\">\n",
       "  <thead>\n",
       "    <tr style=\"text-align: right;\">\n",
       "      <th></th>\n",
       "      <th>film</th>\n",
       "      <th>characters</th>\n",
       "    </tr>\n",
       "  </thead>\n",
       "  <tbody>\n",
       "    <tr>\n",
       "      <th>18</th>\n",
       "      <td>WALL-E</td>\n",
       "      <td>[Pantomime, Live Action, WALL•E, EVE, M-O , Au...</td>\n",
       "    </tr>\n",
       "    <tr>\n",
       "      <th>20</th>\n",
       "      <td>Cars</td>\n",
       "      <td>[Cars as Characters, Lightning McQueen, Mater,...</td>\n",
       "    </tr>\n",
       "    <tr>\n",
       "      <th>12</th>\n",
       "      <td>Inside Out</td>\n",
       "      <td>[The Many Particles of Joy, Joy, Sadness, Ange...</td>\n",
       "    </tr>\n",
       "  </tbody>\n",
       "</table>\n",
       "</div>"
      ],
      "text/plain": [
       "          film                                         characters\n",
       "18      WALL-E  [Pantomime, Live Action, WALL•E, EVE, M-O , Au...\n",
       "20        Cars  [Cars as Characters, Lightning McQueen, Mater,...\n",
       "12  Inside Out  [The Many Particles of Joy, Joy, Sadness, Ange..."
      ]
     },
     "execution_count": 14,
     "metadata": {},
     "output_type": "execute_result"
    }
   ],
   "source": [
    "list_ = build_df_structure(characters_dict)\n",
    "df_structure = {\n",
    "    'film': list_[0],\n",
    "    'characters': list_[1]\n",
    "}\n",
    "characters_df = pd.DataFrame(df_structure)\n",
    "# characters_df.to_csv('../data/characters.csv')\n",
    "characters_df.sample(3)"
   ]
  },
  {
   "cell_type": "markdown",
   "metadata": {},
   "source": [
    "### Assets"
   ]
  },
  {
   "cell_type": "code",
   "execution_count": 15,
   "metadata": {},
   "outputs": [
    {
     "data": {
      "text/html": [
       "<div>\n",
       "<style scoped>\n",
       "    .dataframe tbody tr th:only-of-type {\n",
       "        vertical-align: middle;\n",
       "    }\n",
       "\n",
       "    .dataframe tbody tr th {\n",
       "        vertical-align: top;\n",
       "    }\n",
       "\n",
       "    .dataframe thead th {\n",
       "        text-align: right;\n",
       "    }\n",
       "</style>\n",
       "<table border=\"1\" class=\"dataframe\">\n",
       "  <thead>\n",
       "    <tr style=\"text-align: right;\">\n",
       "      <th></th>\n",
       "      <th>film</th>\n",
       "      <th>assets</th>\n",
       "    </tr>\n",
       "  </thead>\n",
       "  <tbody>\n",
       "    <tr>\n",
       "      <th>23</th>\n",
       "      <td>Monsters, Inc.</td>\n",
       "      <td>[The Door, The Apartment, Boo's Room, The Fact...</td>\n",
       "    </tr>\n",
       "    <tr>\n",
       "      <th>10</th>\n",
       "      <td>Finding Dory</td>\n",
       "      <td>[Water and Light, Great Barrier Reef, The Mari...</td>\n",
       "    </tr>\n",
       "    <tr>\n",
       "      <th>19</th>\n",
       "      <td>Ratatouille</td>\n",
       "      <td>[A World of Extremes, Old School, Gusteau’s, L...</td>\n",
       "    </tr>\n",
       "  </tbody>\n",
       "</table>\n",
       "</div>"
      ],
      "text/plain": [
       "              film                                             assets\n",
       "23  Monsters, Inc.  [The Door, The Apartment, Boo's Room, The Fact...\n",
       "10    Finding Dory  [Water and Light, Great Barrier Reef, The Mari...\n",
       "19     Ratatouille  [A World of Extremes, Old School, Gusteau’s, L..."
      ]
     },
     "execution_count": 15,
     "metadata": {},
     "output_type": "execute_result"
    }
   ],
   "source": [
    "list_ = build_df_structure(assets_dict)\n",
    "df_structure = {\n",
    "    'film': list_[0],\n",
    "    'assets': list_[1]\n",
    "}\n",
    "assets_df = pd.DataFrame(df_structure)\n",
    "# assets_df.to_csv('../data/assets.csv')\n",
    "assets_df.sample(3)"
   ]
  },
  {
   "cell_type": "markdown",
   "metadata": {},
   "source": [
    "## Merge DataFrames"
   ]
  },
  {
   "cell_type": "code",
   "execution_count": 16,
   "metadata": {},
   "outputs": [
    {
     "data": {
      "text/html": [
       "<div>\n",
       "<style scoped>\n",
       "    .dataframe tbody tr th:only-of-type {\n",
       "        vertical-align: middle;\n",
       "    }\n",
       "\n",
       "    .dataframe tbody tr th {\n",
       "        vertical-align: top;\n",
       "    }\n",
       "\n",
       "    .dataframe thead th {\n",
       "        text-align: right;\n",
       "    }\n",
       "</style>\n",
       "<table border=\"1\" class=\"dataframe\">\n",
       "  <thead>\n",
       "    <tr style=\"text-align: right;\">\n",
       "      <th></th>\n",
       "      <th>film</th>\n",
       "      <th>characters</th>\n",
       "      <th>assets</th>\n",
       "    </tr>\n",
       "  </thead>\n",
       "  <tbody>\n",
       "    <tr>\n",
       "      <th>21</th>\n",
       "      <td>The Incredibles</td>\n",
       "      <td>[The Superpowers, Mr. Incredible, Elastigirl, ...</td>\n",
       "      <td>[The Future, The Sound Of The Incredibles, New...</td>\n",
       "    </tr>\n",
       "    <tr>\n",
       "      <th>24</th>\n",
       "      <td>Toy Story 2</td>\n",
       "      <td>[Woody, Buzz Lightyear, Jessie, Bullseye, Mrs....</td>\n",
       "      <td>[Al's Apartment, Al's Toy Barn, Woody's Roundu...</td>\n",
       "    </tr>\n",
       "    <tr>\n",
       "      <th>16</th>\n",
       "      <td>Toy Story 3</td>\n",
       "      <td>[Reintroductions, Woody, Buzz Lightyear, Lotso...</td>\n",
       "      <td>[Western Opening, The Landfill, Andy's Room, B...</td>\n",
       "    </tr>\n",
       "  </tbody>\n",
       "</table>\n",
       "</div>"
      ],
      "text/plain": [
       "               film                                         characters  \\\n",
       "21  The Incredibles  [The Superpowers, Mr. Incredible, Elastigirl, ...   \n",
       "24      Toy Story 2  [Woody, Buzz Lightyear, Jessie, Bullseye, Mrs....   \n",
       "16      Toy Story 3  [Reintroductions, Woody, Buzz Lightyear, Lotso...   \n",
       "\n",
       "                                               assets  \n",
       "21  [The Future, The Sound Of The Incredibles, New...  \n",
       "24  [Al's Apartment, Al's Toy Barn, Woody's Roundu...  \n",
       "16  [Western Opening, The Landfill, Andy's Room, B...  "
      ]
     },
     "execution_count": 16,
     "metadata": {},
     "output_type": "execute_result"
    }
   ],
   "source": [
    "merged_df = pd.merge(characters_df, assets_df, on='film', how='inner')\n",
    "merged_df.sample(3)"
   ]
  },
  {
   "cell_type": "markdown",
   "metadata": {},
   "source": [
    "## Clean Merged DataFrame"
   ]
  },
  {
   "cell_type": "code",
   "execution_count": 17,
   "metadata": {},
   "outputs": [],
   "source": [
    "def clean_string_list(list_):\n",
    "    str_ = \", \".join(list_)\n",
    "    return str_.strip()\n",
    "\n",
    "merged_df['characters'] = merged_df['characters'].apply(clean_string_list)\n",
    "merged_df['assets'] = merged_df['assets'].apply(clean_string_list)\n"
   ]
  },
  {
   "cell_type": "code",
   "execution_count": 18,
   "metadata": {},
   "outputs": [
    {
     "data": {
      "text/html": [
       "<div>\n",
       "<style scoped>\n",
       "    .dataframe tbody tr th:only-of-type {\n",
       "        vertical-align: middle;\n",
       "    }\n",
       "\n",
       "    .dataframe tbody tr th {\n",
       "        vertical-align: top;\n",
       "    }\n",
       "\n",
       "    .dataframe thead th {\n",
       "        text-align: right;\n",
       "    }\n",
       "</style>\n",
       "<table border=\"1\" class=\"dataframe\">\n",
       "  <thead>\n",
       "    <tr style=\"text-align: right;\">\n",
       "      <th></th>\n",
       "      <th>film</th>\n",
       "      <th>characters</th>\n",
       "      <th>assets</th>\n",
       "    </tr>\n",
       "  </thead>\n",
       "  <tbody>\n",
       "    <tr>\n",
       "      <th>14</th>\n",
       "      <td>Brave</td>\n",
       "      <td>The Story of Brave, Merida , Queen Elinor, Kin...</td>\n",
       "      <td>The Stories of Scotland, Castle DunBroch, The ...</td>\n",
       "    </tr>\n",
       "    <tr>\n",
       "      <th>3</th>\n",
       "      <td>Luca</td>\n",
       "      <td>Just Add Water, Luca Paguro, Alberto Scorfano,...</td>\n",
       "      <td>Italy, Summertime and Sea Monsters, Portorosso...</td>\n",
       "    </tr>\n",
       "    <tr>\n",
       "      <th>15</th>\n",
       "      <td>Cars 2</td>\n",
       "      <td>What Would Mater Do?, Mater, Lightning McQueen...</td>\n",
       "      <td>The International World of Cars 2, (Not) Lost ...</td>\n",
       "    </tr>\n",
       "  </tbody>\n",
       "</table>\n",
       "</div>"
      ],
      "text/plain": [
       "      film                                         characters  \\\n",
       "14   Brave  The Story of Brave, Merida , Queen Elinor, Kin...   \n",
       "3     Luca  Just Add Water, Luca Paguro, Alberto Scorfano,...   \n",
       "15  Cars 2  What Would Mater Do?, Mater, Lightning McQueen...   \n",
       "\n",
       "                                               assets  \n",
       "14  The Stories of Scotland, Castle DunBroch, The ...  \n",
       "3   Italy, Summertime and Sea Monsters, Portorosso...  \n",
       "15  The International World of Cars 2, (Not) Lost ...  "
      ]
     },
     "execution_count": 18,
     "metadata": {},
     "output_type": "execute_result"
    }
   ],
   "source": [
    "merged_df.sample(3)"
   ]
  },
  {
   "cell_type": "code",
   "execution_count": 19,
   "metadata": {},
   "outputs": [],
   "source": [
    "merged_df.to_csv('../data/characters_assets.csv', index=False)"
   ]
  }
 ],
 "metadata": {
  "kernelspec": {
   "display_name": "ironhack",
   "language": "python",
   "name": "python3"
  },
  "language_info": {
   "codemirror_mode": {
    "name": "ipython",
    "version": 3
   },
   "file_extension": ".py",
   "mimetype": "text/x-python",
   "name": "python",
   "nbconvert_exporter": "python",
   "pygments_lexer": "ipython3",
   "version": "3.11.5"
  }
 },
 "nbformat": 4,
 "nbformat_minor": 2
}
